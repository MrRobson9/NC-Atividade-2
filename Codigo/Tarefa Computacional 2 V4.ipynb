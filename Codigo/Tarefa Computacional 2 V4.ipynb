{
 "cells": [
  {
   "cell_type": "markdown",
   "id": "accef345",
   "metadata": {},
   "source": [
    "# Atividade Computacional 2"
   ]
  },
  {
   "cell_type": "markdown",
   "id": "3c86f6fc",
   "metadata": {},
   "source": [
    "## Aluno: Dylan Faria Robson"
   ]
  },
  {
   "cell_type": "markdown",
   "id": "a6139321",
   "metadata": {},
   "source": [
    "## Import"
   ]
  },
  {
   "cell_type": "code",
   "execution_count": 2,
   "id": "3501c65c",
   "metadata": {},
   "outputs": [],
   "source": [
    "# --- Importações Essenciais ---\n",
    "import warnings\n",
    "\n",
    "# Scikit-learn\n",
    "import numpy as np, random, time, matplotlib.pyplot as plt\n",
    "from sklearn.datasets import fetch_openml\n",
    "from sklearn.model_selection import train_test_split\n",
    "from sklearn.neural_network import MLPRegressor, MLPClassifier\n",
    "from sklearn.metrics import mean_squared_error, accuracy_score, precision_score, recall_score, f1_score\n",
    "from sklearn.utils import shuffle\n",
    "from deap import base, creator, tools\n",
    "from tqdm.auto import tqdm, trange\n",
    "\n",
    "# Visualização\n",
    "import matplotlib.pyplot as plt\n",
    "\n",
    "# --- Configurações Globais ---\n",
    "warnings.filterwarnings('ignore', category=UserWarning) # Ignorar avisos de convergência do MLP"
   ]
  },
  {
   "cell_type": "markdown",
   "id": "2ed95b95",
   "metadata": {},
   "source": [
    "## Funções"
   ]
  },
  {
   "cell_type": "code",
   "execution_count": null,
   "id": "cd4ebffa",
   "metadata": {},
   "outputs": [],
   "source": [
    "#Reprodutibilidade\n",
    "SEED = 42  # Valor fixo para repetir resultados\n",
    "random.seed(SEED)\n",
    "np.random.seed(SEED)"
   ]
  },
  {
   "cell_type": "code",
   "execution_count": null,
   "id": "231a0f1a",
   "metadata": {},
   "outputs": [],
   "source": [
    "# 1 · Carregar e normalizar a base MNIST\n",
    "mnist = fetch_openml('mnist_784', version=1, as_frame=False)\n",
    "# Normaliza pixels para [0,1] e converte rótulos para int64\n",
    "X, y = mnist.data.astype(np.float32)/255.0, mnist.target.astype(np.int64)\n",
    "# Embaralha o conjunto para evitar viés de ordenação\n",
    "X, y = shuffle(X, y, random_state=SEED)\n",
    "# subamostrar 15000 itens\n",
    "X, y = X[:15000], y[:15000]\n",
    "# Separa treino (80 %) e teste (20 %) mantendo distribuição de classes\n",
    "X_train, X_test, y_train, y_test = train_test_split(\n",
    "    X, y, test_size=0.2, stratify=y, random_state=SEED)"
   ]
  },
  {
   "cell_type": "code",
   "execution_count": null,
   "id": "f02397f5",
   "metadata": {},
   "outputs": [],
   "source": [
    "# 2 · Funções utilitárias\n",
    "ACT = {'relu': lambda z: np.maximum(0,z),\n",
    "       'logistic': lambda z: 1/(1+np.exp(-z))}\n",
    "\n",
    "DEFAULT_EPOCHS = 5  # Epochs para treino do autoencoder\n",
    "CLASSIF_ITERS = 60  # Epochs para treino do classificador final\n",
    "\n",
    "\n",
    "def build_autoencoder(X, hidden, lr):\n",
    "    \"\"\"Cria e treina um autoencoder; ignora camadas com 0 neurónios.\"\"\"\n",
    "    hidden_clean = [h for h in hidden if h > 0]  # Remove camadas vazias\n",
    "    if not hidden_clean: \n",
    "        hidden_clean = [LAT_MIN]  # Garante ao menos 1 neurônio\n",
    "    # Cria arquitetura espelhada: encoder + decoder\n",
    "    layers = tuple(hidden_clean + hidden_clean[::-1])\n",
    "    ae = MLPRegressor(\n",
    "        hidden_layer_sizes=layers,\n",
    "        activation='relu',\n",
    "        solver='adam',\n",
    "        learning_rate_init=lr,\n",
    "        max_iter=DEFAULT_EPOCHS,\n",
    "        batch_size=256,\n",
    "        random_state=SEED,\n",
    "        verbose=False,\n",
    "    )\n",
    "    ae.fit(X, X) # Treina para reconstruir a própria entrada\n",
    "    return ae\n",
    "\n",
    "\n",
    "def encode_latent(X, ae):\n",
    "    \"\"\"Passa X até a camada latente do autoencoder e devolve embeddings.\"\"\"\n",
    "    n_enc = len(ae.coefs_) // 2  # Metade das camadas = encoder\n",
    "    A = X  # Ativação inicial\n",
    "    for i in range(n_enc):  # Propagação até a latente\n",
    "        A = ACT[ae.activation](A @ ae.coefs_[i] + ae.intercepts_[i])\n",
    "    return A # Vetores latentes\n",
    "\n",
    "\n",
    "def build_classifier(Z, y):\n",
    "    \"\"\"Treina um MLP mono‑camada sobre o espaço latente Z.\"\"\"\n",
    "    clf = MLPClassifier(hidden_layer_sizes=(64,), activation='relu', solver='adam',\n",
    "                        learning_rate_init=1e-3, alpha=1e-4, max_iter=CLASSIF_ITERS,\n",
    "                        batch_size=128, random_state=SEED, verbose=False)\n",
    "    clf.fit(Z, y)\n",
    "    return clf\n"
   ]
  },
  {
   "cell_type": "code",
   "execution_count": null,
   "id": "16326750",
   "metadata": {},
   "outputs": [],
   "source": [
    "# 3 · Fitness\n",
    "# Divide o treino em sub‑treino (90 %) e validação (10 %)\n",
    "X_tr,X_val,y_tr,y_val=train_test_split(X_train,y_train,test_size=0.1,stratify=y_train,random_state=SEED)\n",
    "_cache={}  # Memoriza indivíduos já avaliados\n",
    "\n",
    "def evaluate(ind):\n",
    "    \"\"\"Calcula fitness = –MSE de reconstrução no conjunto de validação.\"\"\"\n",
    "    key=tuple(round(v,4) for v in ind)\n",
    "    if key in _cache: return (_cache[key],)\n",
    "\n",
    "     # Decodifica hiperparâmetros\n",
    "    n1,n2,lat,lr=ind\n",
    "    hidden=[int(n1),int(n2),int(lat)]\n",
    "\n",
    "    # Treina autoencoder e calcula MSE de validação\n",
    "    ae=build_autoencoder(X_tr,hidden,lr)\n",
    "    recon=ae.predict(X_val)\n",
    "    mse=mean_squared_error(X_val,recon)\n",
    "    fitness=-mse  # # DEAP maximiza: sinal negativo\n",
    "    _cache[key]=fitness\n",
    "    return (fitness,)"
   ]
  },
  {
   "cell_type": "code",
   "execution_count": null,
   "id": "cbd16196",
   "metadata": {},
   "outputs": [],
   "source": [
    "# 4 · DEAP\n",
    "creator.create('FitnessMax', base.Fitness, weights=(1.0,))  # Otimizar\n",
    "creator.create('Individual', list, fitness=creator.FitnessMax) # Lista de floats\n",
    "\n",
    "# permitir camadas opcionais: 0 neurónios significa «camada ausente»\n",
    "N1_MIN, N1_MAX = 0, 256 # 1ª camada\n",
    "N2_MIN, N2_MAX = 0, 128 # 2ª camada\n",
    "LAT_MIN, LAT_MAX = 1, 64  # latente não pode ser 0\n",
    "LR_MIN, LR_MAX = 1e-4, 5e-3 # Taxa de aprendizado\n",
    "\n",
    "def init_ind():\n",
    "    \"\"\"Cria indivíduo aleatório dentro dos limites.\"\"\"\n",
    "    return creator.Individual([\n",
    "        random.randint(N1_MIN, N1_MAX),\n",
    "        random.randint(N2_MIN, N2_MAX),\n",
    "        random.randint(LAT_MIN, LAT_MAX),\n",
    "        10**random.uniform(np.log10(LR_MIN), np.log10(LR_MAX))])\n",
    "\n",
    "# Registros na toolbox\n",
    "toolbox = base.Toolbox()\n",
    "\n",
    "toolbox.register('individual', init_ind)\n",
    "\n",
    "toolbox.register('population', tools.initRepeat, list, toolbox.individual)\n",
    "\n",
    "toolbox.register('evaluate', evaluate)\n",
    "\n",
    "toolbox.register('mate', tools.cxTwoPoint)\n",
    "\n",
    "toolbox.register('mutate', tools.mutPolynomialBounded,\n",
    "                 low=[N1_MIN, N2_MIN, LAT_MIN, LR_MIN],\n",
    "                 up=[N1_MAX, N2_MAX, LAT_MAX, LR_MAX],\n",
    "                 eta=20, indpb=0.3)\n",
    "\n",
    "toolbox.register('select', tools.selTournament, tournsize=3) # Seleção via torneio\n",
    "\n",
    "\n",
    "def var_or(pop, lam, cxpb, mutpb):\n",
    "    \"\"\"Versão customizada de (μ,λ): apenas descendentes competem.\"\"\"\n",
    "    off = []\n",
    "    for _ in range(lam):\n",
    "        ind = toolbox.clone(random.choice(pop))  # Cópia de um pai\n",
    "        if random.random() < cxpb:  # Cruzamento com outro pai\n",
    "            ind2 = toolbox.clone(random.choice(pop)); toolbox.mate(ind, ind2) \n",
    "        if random.random() < mutpb: # Mutação polinomial\n",
    "            toolbox.mutate(ind)  \n",
    "        del ind.fitness.values  # Força re‑avaliação\n",
    "        off.append(ind)\n",
    "    return off\n"
   ]
  },
  {
   "cell_type": "markdown",
   "id": "2764ded9",
   "metadata": {},
   "source": [
    "## Execução"
   ]
  },
  {
   "cell_type": "code",
   "execution_count": null,
   "id": "b844a34d",
   "metadata": {},
   "outputs": [
    {
     "data": {
      "application/vnd.jupyter.widget-view+json": {
       "model_id": "497197b935f041d99876fe46730e001d",
       "version_major": 2,
       "version_minor": 0
      },
      "text/plain": [
       "ES:   0%|          | 0/30 [00:00<?, ?gen/s]"
      ]
     },
     "metadata": {},
     "output_type": "display_data"
    },
    {
     "name": "stdout",
     "output_type": "stream",
     "text": [
      "ES – melhor MSE: 0.02520 | tempo 1245.4s\n"
     ]
    }
   ],
   "source": [
    "# 5 · Evolution Strategy (ES)\n",
    "μ, λ, GEN = 8, 56 , 30  # # Pais, descendentes, gerações\n",
    "pop_es = toolbox.population(n=μ) # População inicial\n",
    "es_curve = []  # Registro da convergência\n",
    "start_es = time.perf_counter()\n",
    "for _ in trange(GEN, desc='ES', unit='gen'):\n",
    "    offspring = var_or(pop_es, λ, 0.5, 0.5)  # Variar gera λ filhos\n",
    "    invalid = [ind for ind in offspring if not ind.fitness.valid]\n",
    "    for ind in invalid:\n",
    "        ind.fitness.values = toolbox.evaluate(ind) # Avaliar fitness\n",
    "    pop_es = toolbox.select(offspring, μ)  # Seleçãp (μ,λ) via torneio com k=3\n",
    "    best_now = max(pop_es, key=lambda i: i.fitness.values[0])\n",
    "    es_curve.append(-best_now.fitness.values[0])  # Registra MSE (positivo)\n",
    "end_es = time.perf_counter()\n",
    "hof_es = max(pop_es, key=lambda i: i.fitness.values[0])  # Hall of Fame\n",
    "es_time = end_es - start_es\n",
    "es_mse = es_curve[-1]\n",
    "print(f'ES – melhor MSE: {es_mse:.5f} | tempo {es_time:.1f}s')"
   ]
  },
  {
   "cell_type": "code",
   "execution_count": null,
   "id": "72c4859d",
   "metadata": {},
   "outputs": [
    {
     "data": {
      "application/vnd.jupyter.widget-view+json": {
       "model_id": "40f4189395ec4d8cbbd5d822dd9fda64",
       "version_major": 2,
       "version_minor": 0
      },
      "text/plain": [
       "PSO:   0%|          | 0/30 [00:00<?, ?iter/s]"
      ]
     },
     "metadata": {},
     "output_type": "display_data"
    },
    {
     "name": "stdout",
     "output_type": "stream",
     "text": [
      "PSO – melhor MSE: 0.02306 | tempo 4613.4s\n"
     ]
    }
   ],
   "source": [
    "# 6 · Particle Swarm Optimisation (PSO)\n",
    "PART, ITER = 56, 30  # Partículas, iterações\n",
    "ϕ_p, ϕ_g, ω = 1.5, 1.5, 0.7  # Constantes de PSO\n",
    "\n",
    "# Inicializa posições (hiperparâmetros) e velocidades\n",
    "pos = [np.array(init_ind(), dtype=float) for _ in range(PART)]\n",
    "vel = [np.zeros(4) for _ in range(PART)]\n",
    "fit = [evaluate(creator.Individual(p.tolist()))[0] for p in pos]\n",
    "\n",
    "# Memoriza melhor posição individual e global\n",
    "ppos, pbest = pos.copy(), fit.copy()\n",
    "gbest_pos = pos[int(np.argmax(fit))].copy(); gbest = max(fit)\n",
    "    \n",
    "pso_curve = [-gbest]  # Registra MSE global\n",
    "start_pso = time.perf_counter()\n",
    "for _ in trange(ITER, desc='PSO', unit='iter'):\n",
    "    for i in range(PART):\n",
    "        r_p, r_g = np.random.rand(4), np.random.rand(4) # Ruído estocástico\n",
    "\n",
    "        # Atualiza velocidade (equação clássica de PSO)\n",
    "        vel[i] = ω * vel[i] + ϕ_p * r_p * (ppos[i] - pos[i]) + ϕ_g * r_g * (gbest_pos - pos[i])\n",
    "\n",
    "         # Atualiza posição\n",
    "        pos[i] += vel[i]\n",
    "\n",
    "        # Clipa hiperparâmetros para permanecer dentro das faixas\n",
    "        pos[i][:3] = np.clip(pos[i][:3], [N1_MIN, N2_MIN, LAT_MIN], [N1_MAX, N2_MAX, LAT_MAX])\n",
    "        pos[i][3] = np.clip(pos[i][3], LR_MIN, LR_MAX)\n",
    "\n",
    "        # Avalia fitness da nova posição\n",
    "        curr_fit = evaluate(creator.Individual(pos[i].tolist()))[0]\n",
    "\n",
    "        # Atualiza melhor pessoal\n",
    "        if curr_fit > pbest[i]:\n",
    "            pbest[i], ppos[i] = curr_fit, pos[i].copy()\n",
    "\n",
    "        # Atualiza melhor global\n",
    "        if curr_fit > gbest:\n",
    "            gbest, gbest_pos = curr_fit, pos[i].copy()\n",
    "    pso_curve.append(-gbest)  # MSE positivo\n",
    "end_pso = time.perf_counter()\n",
    "\n",
    "# Hall of Fame para PSO\n",
    "hof_pso = creator.Individual(gbest_pos.tolist()); hof_pso.fitness.values = (gbest,)\n",
    "pso_time = end_pso - start_pso\n",
    "pso_mse = pso_curve[-1]\n",
    "print(f'PSO – melhor MSE: {pso_mse:.5f} | tempo {pso_time:.1f}s')"
   ]
  },
  {
   "cell_type": "code",
   "execution_count": null,
   "id": "b830ece5",
   "metadata": {},
   "outputs": [],
   "source": [
    "# 7 · Modelo final\n",
    "\n",
    "results = []\n",
    "for label, ind, mse, t_opt in [\n",
    "    ('ES', hof_es, es_mse, es_time),\n",
    "    ('PSO', hof_pso, pso_mse, pso_time)]:\n",
    "\n",
    "    # Reconstrói hiperparâmetros inteiros\n",
    "    n1, n2, lat, lr = ind\n",
    "    hidden = [int(n1), int(n2), int(lat)]\n",
    "\n",
    "     # Treina autoencoder com todo o treino e extrai embeddings\n",
    "    ae = build_autoencoder(X_train, hidden, lr)\n",
    "    Z_tr, Z_te = encode_latent(X_train, ae), encode_latent(X_test, ae)\n",
    "\n",
    "    # Treina classificador e obtém métricas\n",
    "    clf = build_classifier(Z_tr, y_train)\n",
    "    pr = clf.predict(Z_te)\n",
    "    \n",
    "    acc = accuracy_score(y_test, pr)\n",
    "    prec = precision_score(y_test, pr, average='macro')\n",
    "    rec = recall_score(y_test, pr, average='macro')\n",
    "    f1 = f1_score(y_test, pr, average='macro')\n",
    "    results.append([label, mse, acc, prec, rec, f1, t_opt, hidden, lr])"
   ]
  },
  {
   "cell_type": "code",
   "execution_count": 11,
   "id": "5ec77f54",
   "metadata": {},
   "outputs": [
    {
     "data": {
      "image/png": "[encoded data removed]",
      "text/plain": [
       "<Figure size 700x400 with 1 Axes>"
      ]
     },
     "metadata": {},
     "output_type": "display_data"
    }
   ],
   "source": [
    "# 8 · Convergência\n",
    "plt.figure(figsize=(7,4))\n",
    "plt.plot(es_curve, label='ES')\n",
    "plt.plot(range(0, ITER+1), pso_curve, label='PSO')\n",
    "plt.xlabel('Iteração')\n",
    "plt.ylabel('MSE de validação')\n",
    "plt.title('Convergência do fitness')\n",
    "plt.grid(True); plt.legend(); plt.show()\n"
   ]
  },
  {
   "cell_type": "code",
   "execution_count": 13,
   "id": "4693672e",
   "metadata": {},
   "outputs": [
    {
     "name": "stdout",
     "output_type": "stream",
     "text": [
      "| Algoritmo | MSE (↓) | Acc | Prec | Rec | F1 | Tempo s | Hidden | LR |\n",
      "|-----------|---------|------|------|------|------|--------|----------------|-------|\n",
      "| ES | 0.02520 | 0.9173 | 0.9179 | 0.9167 | 0.9166 | 1245.4 | [213, 93, 55] | 2.15e-03 |\n",
      "| PSO | 0.02306 | 0.9280 | 0.9280 | 0.9276 | 0.9275 | 4613.4 | [256, 99, 64] | 3.06e-03 |\n"
     ]
    }
   ],
   "source": [
    "# 9 · Tabela comparativa\n",
    "print(\"| Algoritmo | MSE (↓) | Acc | Prec | Rec | F1 | Tempo s | Hidden | LR |\")\n",
    "print(\"|-----------|---------|------|------|------|------|--------|----------------|-------|\")\n",
    "for algo, mse, acc, prec, rec, f1, t_opt, hidden, lr in results:\n",
    "    print(f\"| {algo} | {mse:.5f} | {acc:.4f} | {prec:.4f} | {rec:.4f} | {f1:.4f} | {t_opt:.1f} | {hidden} | {lr:.2e} |\")"
   ]
  },
  {
   "cell_type": "markdown",
   "id": "179ad9d0",
   "metadata": {},
   "source": [
    "## Resultado - tempo médio após 10 execuções"
   ]
  },
  {
   "cell_type": "markdown",
   "id": "c8373a5e",
   "metadata": {},
   "source": [
    "| Algoritmo | MSE (↓) | Acc | Prec | Rec | F1 | Tempo s | Hidden | LR |\n",
    "|-----------|---------|------|------|------|------|--------|----------------|-------|\n",
    "| ES | 0.02520 | 0.9173 | 0.9179 | 0.9167 | 0.9166 | 1245.4 | [213, 93, 55] | 2.15e-03 |\n",
    "| PSO | 0.02306 | 0.9280 | 0.9280 | 0.9276 | 0.9275 | 3798.9 | [256, 99, 64] | 3.06e-03 |"
   ]
  }
 ],
 "metadata": {
  "kernelspec": {
   "display_name": "nc",
   "language": "python",
   "name": "python3"
  },
  "language_info": {
   "codemirror_mode": {
    "name": "ipython",
    "version": 3
   },
   "file_extension": ".py",
   "mimetype": "text/x-python",
   "name": "python",
   "nbconvert_exporter": "python",
   "pygments_lexer": "ipython3",
   "version": "3.12.9"
  }
 },
 "nbformat": 4,
 "nbformat_minor": 5
}
